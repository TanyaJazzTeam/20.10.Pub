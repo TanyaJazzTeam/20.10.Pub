{
  "cells": [
    {
      "cell_type": "markdown",
      "metadata": {
        "gloss": {
          "complex-number": {
            "text": "Los números complejos se pueden formar a partir de combinaciones de números reales e <a href='https://en.wikipedia.org/wiki/Imaginary_number'>números imaginarios</a>. Si no está seguro de lo que esto significa, ¡no se preocupe! No necesitará hacerlo en este curso (pero puede <a href='https://en.wikipedia.org/wiki/Complex_number'>leer más</a> si está interesado. re",
            "title": "Número complejo t"
          },
          "esoteric": {
            "text": "Las palabras esotéricas son palabras especializadas que la mayoría de la gente no entenderá. Intentaremos evitarlos en la medida de lo posible, pero a veces pueden ser útiles rt r.",
            "title": "esotérico"
          },
          "real-number": {
            "text": "Un número real es un número que solo tiene una magnitud. Si no has oído hablar de un número real antes, probablemente puedas dejar el 'real' y simplemente llamarlos 'números'. Los ejemplos de números reales incluyen: 112, -5.4 y π. <a href='https://en.wikipedia.org/wiki/Real_number'>Más información</a>. rtgre",
            "title": "Número Real rgef"
          }
        }
      },
      "source": [
        "# 양자 컴퓨터 설명\n",
        "\n",
        "이 장에서는 양자컴퓨터를 설명하기 위해 사용하는 다양한 수학의 기호나 방정식, 전문 적 인 어휘는 간결 하고 확실한 이해 를 도와 주지만 기호의 의미 를 알기 전 에는 이해 하기 힘들기 때문 에 많은 사람들 을 겁 먹게 하곤 합니다. 그래서 이 챕터에서는 수식을 인터랙티브하게 보여줍니다. 기호 위에 마우스를 올려놓으면 그 기호가 무엇을 의미하는지 알 수 있습니다. 또 수학 이나 양자 컴퓨터 의 언어 를 구사 할 수 있게 하기 위해서 [난해 한](gloss:esoteric) 단어 를 조금씩 배치 하였으며 이 단어 에 마우스 를 올려놓으면 그 단어 해설 을 볼 수 수 있게 되어 있습니다 있습니다.\n",
        "\n",
        "## 진폭\n",
        "\n",
        "고전적인 확률은 0에서 1 사이의 [실수](gloss:real-number) 로 나타나는 경우가 많지만 진폭은 방향도 가지다답. 진폭을 표현하기 위한 가장 훌륭한 방법은 [복소수 입니다](gloss:complex-number) 복소수 는 크기 와 방향 모두 완전히 기술 할 수 있지만 이 과정 에서 는 두 가지 방향 (예 를 들어 왼쪽 과 오른쪽) 을 가리키는 진폭 다루고 그 외 에는 신경 신경 쓰지 않기로 합니다 합니다.\n",
        "\n",
        "![진폭과 확률을 비교하는 이미지](images/quantum-states/prob-vs-amp.svg)\n",
        "\n",
        "이것으로 계산이 매우 간단해집니다. 즉 진폭 을 -1 부터 +1 까지 의 숫자로 나타낼 수 있고, 그 숫자가 양수 이면 진폭 은 앞 을 향하고, 음수 이면 뒤 를 향하고 있기 때문 입니다. 이 특성만으로도 재미있는 것들을 해볼 수 있습니다!\n",
        "\n",
        "<!-- ::: q-block.exercise -->\n",
        "\n",
        "### 짧은 퀴즈\n",
        "\n",
        "<!-- ::: q-quiz(goal=\"intro-describing-0\") -->\n",
        "\n",
        "<!-- ::: .question -->\n",
        "\n",
        "¿Está *bien* ?\n",
        "\n",
        "<!-- ::: -->\n",
        "\n",
        "<!-- ::: .option(correct) -->\n",
        "\n",
        "1. $-1$\n",
        "\n",
        "<!-- ::: -->\n",
        "\n",
        "<!-- ::: .option -->\n",
        "\n",
        "1. $1/3$\n",
        "\n",
        "<!-- ::: -->\n",
        "\n",
        "<!-- ::: .option -->\n",
        "\n",
        "1. $1.01$\n",
        "\n",
        "<!-- ::: -->\n",
        "\n",
        "<!-- ::: .option -->\n",
        "\n",
        "1. $\\sqrt{-2}$\n",
        "\n",
        "<!-- ::: -->\n",
        "\n",
        "<!-- ::: -->\n",
        "\n",
        "<!-- ::: -->"
      ]
    },
    {
      "cell_type": "markdown",
      "metadata": {
        "formulas": {
          "_amp-0-0": {
            "meaning": "Esta es la amplitud del estado de dos qubits <code>00</code>, es igual a la raíz cuadrada de un medio."
          },
          "_amp-1-0": {
            "meaning": "Esta es la amplitud del estado de dos qubits <code>01</code>, es igual a la raíz cuadrada de un medio."
          },
          "_amp-2-0": {
            "meaning": "Esta es la amplitud del estado de dos qubits <code>10</code>, es igual a 0."
          },
          "_amp-3-0": {
            "meaning": "Esta es la amplitud del estado de dos qubits <code>11</code>, es igual a 0."
          },
          "def-equal": {
            "meaning": "Esto significa que estamos definiendo las cosas a la izquierda de este símbolo para que sean iguales a las cosas a la derecha de este símbolo."
          },
          "x-ket": {
            "meaning": "Este es un vector que hemos etiquetado como '|x⟩', el '|' y '⟩' nos recuerdan que esta etiqueta se refiere a un vector.",
            "say": "ket x"
          }
        }
      },
      "source": [
        "## 상태 벡터\n",
        "\n",
        "앞 의 페이지 에서 는, 계산 의 각 단계 에 있어서 결과들 의 확률 진폭 을 기록 하여, 양자 계 의 행동 을 예측 할 수 있음 을 배웠습니다. 또한 n 개 의 큐비트 에 대해 $ 2^n $ 개 의 가능 한 결과 가 있으며, 이러한 진폭 을 길 이 $ 2^n $ 의 목록 에 저장 할 수 있음 을 확인 확인 하였습니다. 이 벡터들은 큐비트의 상태를 나타내기 때문에 '상태 벡터'라고 부릅니다.\n",
        "\n",
        "다음은 두 개의 큐비트가 있는 양자 컴퓨터의 상태 벡터의 예입니다.\n",
        "\n",
        "$$\\class{x-ket}{|x\\rangle} \\class{def-equal}{:=} \\begin{bmatrix}\\cssId{_amp-0-0}{\\sqrt{\\tfrac{1}{ 2}}} \\ \\cssId{_amp-1-0}{\\sqrt{\\tfrac{1}{2}}} \\ \\cssId{_amp-2-0}{0} \\ \\cssId{_amp-3-0 }{0} \\end{bmatriz}$$\n",
        "\n",
        "위의 식의 툴팁을 읽고 나서 아래의 질문에 답해 주십시오.\n",
        "\n",
        "<!-- ::: q-block.exercise -->\n",
        "\n",
        "### 짧은 퀴즈\n",
        "\n",
        "<!-- ::: q-quiz(goal=\"intro-describing-1\") -->\n",
        "\n",
        "<!-- ::: .question -->\n",
        "\n",
        "¿ *?*\n",
        "\n",
        "<!-- ::: -->\n",
        "\n",
        "<!-- ::: .option -->\n",
        "\n",
        "1. $1$\n",
        "\n",
        "<!-- ::: -->\n",
        "\n",
        "<!-- ::: .option(correct) -->\n",
        "\n",
        "1. $\\sqrt{\\tfrac{1}{2}}$\n",
        "\n",
        "<!-- ::: -->\n",
        "\n",
        "<!-- ::: .option -->\n",
        "\n",
        "1. $1/2$\n",
        "\n",
        "<!-- ::: -->\n",
        "\n",
        "<!-- ::: .option -->\n",
        "\n",
        "1. $0$\n",
        "\n",
        "<!-- ::: -->\n",
        "\n",
        "<!-- ::: -->\n",
        "\n",
        "---\n",
        "\n",
        "<!-- ::: q-quiz(goal=\"intro-describing-2\") -->\n",
        "\n",
        "<!-- ::: .question -->\n",
        "\n",
        "¿¿¿¿¿¿¿\n",
        "\n",
        "<!-- ::: -->\n",
        "\n",
        "<!-- ::: .option -->\n",
        "\n",
        "1. $1$\n",
        "\n",
        "<!-- ::: -->\n",
        "\n",
        "<!-- ::: .option -->\n",
        "\n",
        "1. $\\sqrt{\\tfrac{1}{2}}$\n",
        "\n",
        "<!-- ::: -->\n",
        "\n",
        "<!-- ::: .option(correct) -->\n",
        "\n",
        "1. $1/2$\n",
        "\n",
        "<!-- ::: -->\n",
        "\n",
        "<!-- ::: .option -->\n",
        "\n",
        "1. $0$\n",
        "\n",
        "<!-- ::: -->\n",
        "\n",
        "<!-- ::: -->\n",
        "\n",
        "<!-- ::: -->"
      ]
    },
    {
      "cell_type": "markdown",
      "metadata": {
        "formulas": {
          "_amp-0-1": {
            "meaning": "Multiplicar este número por el escalar a la izquierda del vector nos da la amplitud del estado <code>00</code>."
          },
          "_amp-0-general": {
            "meaning": "Esta es la amplitud del estado <code>00</code>."
          },
          "_amp-1-1": {
            "meaning": "Multiplicar este número por el escalar a la izquierda del vector nos da la amplitud del estado <code>01</code>."
          },
          "_amp-1-general": {
            "meaning": "Esta es la amplitud del estado <code>01</code>."
          },
          "_amp-2-1": {
            "meaning": "Multiplicar este número por el escalar a la izquierda del vector nos da la amplitud del estado <code>10</code>."
          },
          "_amp-2-general": {
            "meaning": "Esta es la amplitud del estado <code>10</code>."
          },
          "_amp-3-1": {
            "meaning": "Multiplicar este número por el escalar a la izquierda del vector nos da la amplitud del estado <code>11</code>."
          },
          "_amp-3-general": {
            "meaning": "Esta es la amplitud del estado <code>11</code>."
          },
          "_number-three": {
            "meaning": "Este es solo el número normal <a href='https://en.wikipedia.org/wiki/3'>tres</a>. Debido a que está inmediatamente al lado del vector, significa que estamos multiplicando el vector por este número.",
            "say": "Tres"
          },
          "_psi-ket": {
            "meaning": "Este es un vector que hemos etiquetado como '|ψ⟩', el '|' y '⟩' nos recuerdan que esta etiqueta se refiere a un vector. El carácter 'ψ' se escribe 'psi' en inglés.",
            "say": "ket suspiro (la 'p' es muda)"
          },
          "_sq-amp0": {
            "meaning": "Este número es proporcional a la amplitud del estado <code>0</code>."
          },
          "_sq-amp1": {
            "meaning": "Este número es proporcional a la amplitud del estado <code>1</code>."
          },
          "_vec-el-0": {
            "meaning": "Este es el elemento cero del vector."
          },
          "_vec-el-1": {
            "meaning": "Este es el primer elemento del vector."
          },
          "_vec-el-2": {
            "meaning": "Este es el segundo elemento del vector."
          },
          "_vec-el-3": {
            "meaning": "Este es el tercer elemento del vector."
          },
          "_vec-el-n": {
            "meaning": "Este es el (N-1)-ésimo elemento del vector. Como hay N elementos (y comenzamos a contar desde 0), este también es el último elemento."
          },
          "def-00": {
            "meaning": "Este es un vector de estado que estamos definiendo aquí (pero también es una convención común en computación cuántica) que corresponde a estar en el estado <code>00</code> con certeza."
          },
          "def-01": {
            "meaning": "Este es un vector de estado que estamos definiendo aquí (pero también es una convención común en computación cuántica) que corresponde a estar en el estado <code>01</code> con certeza."
          },
          "def-10": {
            "meaning": "Este es un vector de estado que estamos definiendo aquí (pero también es una convención común en la computación cuántica) que corresponde a estar en el estado <code>10</code> con certeza."
          },
          "def-11": {
            "meaning": "Este es un vector de estado que estamos definiendo aquí (pero también es una convención común en computación cuántica) que corresponde a estar en el estado <code>11</code> con certeza."
          },
          "dots": {
            "meaning": "Estos puntos significan \"y así sucesivamente\", lo que implica un patrón continuo."
          },
          "equals": {
            "meaning": "Todo a la izquierda de este signo es igual a todo a la derecha del signo.",
            "say": "igual"
          },
          "minus-ket": {
            "meaning": "Este es un vector que hemos etiquetado como '|-⟩', el '|' y '⟩' nos recuerdan que esta etiqueta se refiere a un vector.",
            "say": "ket menos"
          },
          "plus-ket": {
            "meaning": "Este es un vector que hemos etiquetado como '|+⟩', el '|' y '⟩' nos recuerdan que esta etiqueta se refiere a un vector.",
            "say": "ket más"
          },
          "scalar": {
            "meaning": "Este es solo un número normal. Debido a que está inmediatamente al lado del vector, significa que estamos multiplicando (es decir, escalando) el vector por este número."
          }
        },
        "gloss": {
          "scalar-gloss": {
            "text": "Este es solo un número normal, es decir, no es un vector o una matriz.",
            "title": "Escalar"
          }
        }
      },
      "source": [
        "## 벡터의 덧셈과 곱셈\n",
        "\n",
        "수학의 다른 분야를 공부해보면, 많은 것들이 벡터로 간주된다는 것을 알 수 있습니다. 이 교재 와 qiskit 이 벡터 를 '숫자 의 목록' 으로 간주 하여 사용 하기 때문 에 앞서서 벡터 를 숫자 의 목록 으로 소개 했습니다. 하지만 벡터 를 그냥 숫자 목록 과 구별 하는 것 은 수학자 가 두 벡터 의 덧셈 이나 벡터 와 [스칼라](gloss:scalar-gloss) 의 곱셈 에 대해 명확히 정의 한 규칙 을 지니고 있기 때문 입니다 입니다.\n",
        "\n",
        "### 벡터의 스칼라 곱\n",
        "\n",
        "다음은 벡터의 스칼라곱 예제입니다.\n",
        "\n",
        "$$ \\cssId{_number-tres}{3} \\begin{bmatrix} \\class{_vec-el-0}{1} \\ \\class{_vec-el-1}{2} \\ \\class{_vec-el- 2}{-1} \\ \\class{_vec-el-3}{\\tfrac{1}{2}} \\ \\end{bmatrix} \\class{equals}{=} \\begin{bmatrix} \\class{_vec- el-0}{3} \\ \\class{_vec-el-1}{6} \\ \\class{_vec-el-2}{-3} \\ \\class{_vec-el-3}{\\tfrac{3} {2}} \\ \\end{bmatriz} $$\n",
        "\n",
        "벡터의 각 요소에 3을 곱한 것을 볼 수 있습니다. $N$\n",
        "\n",
        "$$ \\class{scalar}{s} \\begin{bmatrix} \\class{_vec-el-0}{e_0} \\ \\class{_vec-el-1}{e_1} \\ \\class{_vec-el-2} {e_2} \\ \\class{puntos}{\\vdots} \\ \\class{ *vec-el-n}{e* {N-1}} \\ \\end{bmatrix} \\class{equals}{=} \\begin{bmatrix} \\class{_vec-el-0}{s\\times e_0} \\ \\class{_vec-el-1}{s\\times e_1} \\ \\class{_vec-el-2}{s\\times e_2} \\ \\class {puntos}{\\vpuntos} \\ \\class{ *vec-el-n}{s\\times e* {N-1}} \\ \\end{bmatrix} $$\n",
        "\n",
        "따라서 위에서 정의한 상태 벡터 $|x\\rangle$는 다음과 같이 더 간결하게 작성할 수 있습니다.\n",
        "\n",
        "$$ \\class{x-ket}{|x\\rangle} = \\class{scalar}{\\sqrt{\\tfrac{1}{2}}} \\begin{bmatrix} \\cssId{_amp-0-1}{ 1} \\ \\cssId{_amp-1-1}{1} \\ \\cssId{_amp-2-1}{0} \\ \\cssId{_amp-3-1}{0} \\ \\end{bmatrix} $$\n",
        "\n",
        "### 두 벡터의 덧셈\n",
        "\n",
        "두 번째 규칙은 두 벡터를 더하는 것입니다. 이는 두 벡터 가 동일 한 차원 을 가질 경우 에 만 정의 되며, 덧셈 의 결과 로 같은 차원 을 갖는 새로운 벡터 를 얻을 수 있습니다. 다음은 일반적인 규칙입니다.\n",
        "\n",
        "$$ \\begin{bmatrix} \\class{_vec-el-0}{a_0} \\ \\class{_vec-el-1}{a_1} \\ \\class{_vec-el-2}{a_2} \\ \\class{_vec -el-3}{a_3} \\ \\class{puntos}{\\vdots} \\ \\class{ *vec-el-n}{a* {N-1}} \\ \\end{bmatrix} + \\begin{bmatrix} \\class {_vec-el-0}{b_0} \\ \\class{_vec-el-1}{b_1} \\ \\class{_vec-el-2}{b_2} \\ \\class{_vec-el-3}{b_3} \\ \\class{puntos}{\\vpuntos} \\ \\class{ *vec-el-n}{b* {N-1}} \\ \\end{bmatrix} \\class{equals}{=} \\begin{bmatrix} \\class{_vec -el-0}{a_0 + b_0} \\ \\class{_vec-el-1}{a_1 + b_1} \\ \\class{_vec-el-2}{a_2 + b_2} \\ \\class{ <em data-md-type=\"raw_html\">vec-el-3} {a_3 + b_3} \\ \\class{puntos}{\\vdots} \\ \\class{ *vec-el-n}{a* {N-1} + b</em> {N-1}} \\ \\end{bmatriz} $$\n",
        "\n",
        "즉, 벡터를 더하거나 빼는 것으로 새로운 벡터를 만들 수 있습니다. 예를 들어 $|00\\rangle$와 $|01\\rangle$라는 벡터를 이와 같은 방식으로 정의하면 다음과 같습니다.\n",
        "\n",
        "$$ \\class{def-00}{|00\\rangle} \\class{def-equal}{:=} \\begin{bmatrix} \\class{_amp-0-general}{1} \\ \\class{_amp-1 -general}{0} \\\\class{_amp-2-general}{0} \\\\class{_amp-3-general}{0} \\end{bmatrix}, \\quad \\class{def-01}{|01 \\rangle} \\class{def-equal}{:=} \\begin{bmatrix} \\class{_amp-0-general}{0} \\ \\class{_amp-1-general}{1} \\ \\class{_amp- 2-general}{0} \\\\class{_amp-3-general}{0} \\end{bmatrix} $$\n",
        "\n",
        "$\\class{x-ket}{|x\\rangle}$를 다음과 같이 작성할 수 있습니다:\n",
        "\n",
        "$$\\class{x-ket}{|x\\rangle} = \\sqrt{\\tfrac{1}{2}}(\\class{def-00}{|00\\rangle} + \\class{def-01} {|01\\ángulo})$$\n",
        "\n",
        "이렇게 양자 상태 를 더 하는 것 을 \"중첩 하기\" 라고 부르고, \"$ | x \\ rangle $ 는 상태 $ | 00 \\ rangle $ 와 $ | 01 \\ rangle $ 의 중첩 이다\". \"라고 표현 할 수 있습니다 있습니다. 실제로 양자 컴퓨터에서는 그렇게 계산 기저 상태를 정의하는 것이 일반적입니다.\n",
        "\n",
        "$$ \\class{def-00}{|00\\rangle} \\class{def-equal}{:=} \\begin{bmatrix} \\class{_amp-0-general}{1} \\ \\class{_amp-1 -general}{0} \\\\class{_amp-2-general}{0} \\\\class{_amp-3-general}{0} \\end{bmatrix}, \\quad \\class{def-01}{|01 \\rangle} \\class{def-equal}{:=} \\begin{bmatrix} \\class{_amp-0-general}{0} \\ \\class{_amp-1-general}{1} \\ \\class{_amp- 2-general}{0} \\\\class{_amp-3-general}{0} \\end{bmatrix}, \\quad \\class{def-10}{|10\\rangle} \\class{def-equal}{: =} \\begin{bmatrix} \\class{_amp-0-general}{0} \\ \\class{_amp-1-general}{0} \\ \\class{_amp-2-general}{1} \\ \\class{_amp -3-general}{0} \\end{bmatrix}, \\quad \\class{def-11}{|11\\rangle} \\class{def-equal}{:=} \\begin{bmatrix} \\class{_amp- 0-general}{0} \\ \\class{_amp-1-general}{0} \\ \\class{_amp-2-general}{0} \\ \\class{_amp-3-general}{1} \\end{bmatrix } $$\n",
        "\n",
        "그리고 각각 의 벡터 에 적당한 수 를 곱 해서 더 하면 어떤 양자 상태 도 이들 상태 벡터 의 중첩 으로 쓸 수 있습니다.\n",
        "\n",
        "$$ \\cssId{_psi-ket}{|\\psi\\rangle} = \\class{ *amp-0-general}{a* {00}}\\class{def-00}{|00\\rangle}\n",
        "\n",
        "- \\class{ *amp-1-general}{a* {01}}\\class{def-01}{|01\\rangle}\n",
        "- \\class{ *amp-2-general}{a* {10}}\\class{def-10}{|10\\rangle}\n",
        "- \\class{ *amp-3-general}{a* {11}}\\class{def-11}{|11\\rangle} \\class{equals}{=} \\begin{bmatrix} \\class{ *amp-0-general} {a* {00}} \\ \\class{ *amp-1-general}{a* {01}} \\ \\class{ *amp-2-general}{a* {10}} \\ \\class{ *amp-3-general}{a* {11}} \\ \\end{bmatriz} $$\n",
        "\n",
        "임의 의 벡터 를 이 네 벡터 의 조합 으로 쓸 수 있기 때문 에 이 네 벡터 가 기저 를 형성 하고 있다 고 하고 이 를 *계산 기저* 라고 부릅니다. 계산기저는 유일한 기저가 아닙니다. 단일 큐비트의 경우, 자주 사용되는 기저는 $\\class{plus-ket}{|{+}\\rangle}$와 $\\class{minus-ket}{|{-}\\rangle}$ .\n",
        "\n",
        "<!-- ::: column -->\n",
        "\n",
        "![동일한 평면에서 |0>, |1> 기준과 |+>, |-> 기준을 모두 보여주는 이미지](images/quantum-states/basis.svg)\n",
        "\n",
        "<!-- ::: column -->\n",
        "\n",
        "$$ \\class{plus-ket}{|{+}\\rangle} = \\sqrt{\\tfrac{1}{2}} \\begin{bmatrix} \\class{_sq-amp0}{1} \\ \\class{_sq -amp1}{1} \\end{bmatrix} $$ $$ \\class{menos ket}{|{-}\\rangle} = \\sqrt{\\tfrac{1}{2}} \\begin{bmatrix} \\class {_sq-amp0}{1} \\ \\class{_sq-amp1}{-1} \\end{bmatrix} $$\n",
        "\n",
        "<!-- ::: -->\n",
        "\n",
        "<!-- ::: q-block.exercise -->\n",
        "\n",
        "### 실습\n",
        "\n",
        "다음 방정식이 참이 되도록 $\\alpha$, $\\beta$, $\\gamma$ 및 $\\delta$에 대한 값을 찾으십시오.\n",
        "\n",
        "- $\\alpha|{+}\\rangle + \\beta|{-}\\rangle = |0\\rangle$\n",
        "- $\\gamma|{+}\\rangle + \\delta|{-}\\rangle = |1\\rangle$\n",
        "\n",
        "<!-- ::: -->"
      ]
    },
    {
      "cell_type": "markdown",
      "metadata": {
        "formulas": {
          "_amp-i": {
            "meaning": "'a<sub>i</sub>' es la amplitud del estado |i⟩, donde |i⟩ es uno de los estados básicos computacionales."
          },
          "sum": {
            "meaning": "Esto significa que sumamos las cosas de la derecha con diferentes valores de i, comenzando en i=0.",
            "say": "'suma' o 'suma'. El carácter 'Σ' es mayúscula <a href='https://en.wikipedia.org/wiki/Sigma'>sigma</a>."
          }
        },
        "gloss": {
          "matrix": {
            "text": "Las matrices son tablas de números. También vienen con algunas reglas para sumar y multiplicar como lo hicieron los vectores. <a href='https://en.wikipedia.org/wiki/Matrix_(mathematics)'>Lea más</a>.",
            "title": "Matriz"
          }
        }
      },
      "source": [
        "## 얼마나 많은 다른 상태 벡터가 있을까요?\n",
        "\n",
        "우리 는 벡터 를 사용 해서 임의 의 양자 상태 를 표현 할 수 있다는 것 을 알고 있지만 모든 벡터 가 유효 한 양자 상태 가 될 수 있을까 요? 아닙니다. 왜냐 하면 출력 의 발생 확률 은 진폭 을 제곱 해서 계산 되기 때문 에 진폭 의 제곱합 이 1 이 되지 않으면 사용 할 수 없습니다.\n",
        "\n",
        "$$ \\cssId{suma}{\\sum^{N-1}_{i=0}} \\cssId{_amp-i}{a_i}^2 = 1 $$\n",
        "\n",
        "<!-- ::: q-block.exercise -->\n",
        "\n",
        "### 짧은 퀴즈\n",
        "\n",
        "<!-- ::: q-quiz(goal=\"quiz2\") -->\n",
        "\n",
        "<!-- ::: .question -->\n",
        "\n",
        "다음 중 유효한 양자 상태는 무엇입니까? (진폭의 제곱을 더해보세요.)\n",
        "\n",
        "<!-- ::: -->\n",
        "\n",
        "<!-- ::: .option(correct) -->\n",
        "\n",
        "1. $\\sqrt{\\tfrac{1}{3}}\\begin{bmatrix} 1 \\ -1 \\ 1 \\ 0 \\end{bmatrix}$\n",
        "\n",
        "<!-- ::: -->\n",
        "\n",
        "<!-- ::: .option -->\n",
        "\n",
        "1. $\\sqrt{\\tfrac{1}{2}}\\begin{bmatrix} 1 \\ -1 \\ -1 \\ 1 \\end{bmatrix}$\n",
        "\n",
        "<!-- ::: -->\n",
        "\n",
        "<!-- ::: .option -->\n",
        "\n",
        "1. $\\tfrac{1}{2}\\begin{bmatrix} 1 \\ 1 \\end{bmatrix}$\n",
        "\n",
        "<!-- ::: -->\n",
        "\n",
        "<!-- ::: -->\n",
        "\n",
        "<!-- ::: -->\n",
        "\n",
        "또 다른 요인은 상태 벡터의 '전역 위상' 이라고 불리는 것입니다. 위상 이 낳는 간섭 효과 에 의해서 만 위상 의 존재 를 감지 할 수 있기 때문 에, 우리 는 위상 의 *차이* 만 을 측정 할 수 있습니다. 만약 상태 벡터의 모든 진폭을 똑같이 회전시킨다면 똑같은 특성을 볼 수 있을 것입니다.\n",
        "\n",
        "<!-- ::: column -->\n",
        "\n",
        "![다양한 시작 단계에서 간섭 효과를 보여주는 이미지](images/quantum-states/global-phase-L.svg)\n",
        "\n",
        "<!-- ::: column -->\n",
        "\n",
        "![다양한 시작 단계에서 간섭 효과를 보여주는 이미지](images/quantum-states/global-phase-R.svg)\n",
        "\n",
        "<!-- ::: -->\n",
        "\n",
        "예를 들어 다음 두 상태를 구별할 수 있는 실험은 존재하지 않습니다:\n",
        "\n",
        "<!-- ::: column -->\n",
        "\n",
        "$$ |a\\rangle = \\sqrt{\\tfrac{1}{2}}\\begin{bmatrix} 1 \\ 0 \\ 0 \\ 1 \\end{bmatrix} $$\n",
        "\n",
        "<!-- ::: column -->\n",
        "\n",
        "$$ -|a\\rangle = \\sqrt{\\tfrac{1}{2}}\\begin{bmatrix} -1 \\ 0 \\ 0 \\ -1 \\end{bmatrix} $$\n",
        "\n",
        "<!-- ::: -->\n",
        "\n",
        "왜냐하면 각각의 진폭 차이가 같기 때문입니다. 이 두 벡터는 *수학적* 으로는 다르지만 *물리적으로는* 같다고 말 할 수 있습니다.\n",
        "\n",
        "## 양자 연산\n",
        "\n",
        "큐비트 가 가질 수 있는 다양 한 상태 에 대해 모두 알고 있으니, 이제 한 상태 를 다른 상태 로 변환 하는 작업 을 표현 하는 방법 을 살펴볼 차례 입니다.\n",
        "\n",
        "어떤 동작 에 따라 코인 이 앞면 에서 뒷면 으로 바뀌는 전 이 확률 이 있듯이, 큐비트 의 처음 상태 와 마지막 상태 에는 각각 전 이 진폭 이 존재 합니다. 이 전이 진폭에 의해서, 임의의 양자 연산을 기술할 수 있습니다.\n",
        "\n",
        "![작업 전후의 두 상태 벡터를 보여주는 이미지](images/quantum-states/quantum-operation.svg)\n",
        "\n",
        "그렇다면 어떤 변환이 가능한 것일까요? 예를 들어 시작 상태 $|a\\rangle $가 있고, 그것이 새로운 상태 $|b\\rangle $로 변환되는 경우를 생각해 봅시닜닜 만약 우리 가 만들어 보려는 식 이 모든 가능 한 변환 을 커버 하고 싶다면 $ | a \\ rangle $ 의 진폭 은 $ | b \\ rangle $ 의 진폭 으로 의 전 이 진폭 진폭 을 가지고 있어야 합니다.\n",
        "\n",
        "<!-- ::: q-block.exercise -->\n",
        "\n",
        "### 짧은 퀴즈\n",
        "\n",
        "<!-- ::: q-quiz(goal=\"intro-describing-3\") -->\n",
        "\n",
        "<!-- ::: .question -->\n",
        "\n",
        "$n$ 큐비트 상태 벡터는 최대 $2^n$개의 진폭을 가질 수 있습니다. $n$\n",
        "\n",
        "<!-- ::: -->\n",
        "\n",
        "<!-- ::: .option -->\n",
        "\n",
        "1. $2\\cdot 2^n$\n",
        "\n",
        "<!-- ::: -->\n",
        "\n",
        "<!-- ::: .option(correct) -->\n",
        "\n",
        "1. $(2^n)^2$\n",
        "\n",
        "<!-- ::: -->\n",
        "\n",
        "<!-- ::: .option -->\n",
        "\n",
        "1. $2n$\n",
        "\n",
        "<!-- ::: -->\n",
        "\n",
        "<!-- ::: .option -->\n",
        "\n",
        "1. $2^{2^n}$\n",
        "\n",
        "<!-- ::: -->\n",
        "\n",
        "<!-- ::: -->\n",
        "\n",
        "<!-- ::: -->\n",
        "\n",
        "이렇게 선을 긋는 것은 번거롭기 때문에, 대신 이 수치들을 모두 [행렬](gloss:matrix) 에 넣습니다."
      ]
    },
    {
      "cell_type": "markdown",
      "metadata": {
        "formulas": {
          "_cnot-gate": {
            "meaning": "Esta es la etiqueta que le hemos dado a la matriz que representa la puerta CNOT."
          },
          "_t_amp_00_00": {
            "meaning": "Esta es la amplitud de esta operación que transforma el estado <code>00</code> a <code>00</code>."
          },
          "_t_amp_00_01": {
            "meaning": "Esta es la amplitud de esta operación transformando el estado <code>00</code> a <code>01</code>."
          },
          "_t_amp_00_10": {
            "meaning": "Esta es la amplitud de esta operación transformando el estado <code>00</code> a <code>10</code>."
          },
          "_t_amp_00_11": {
            "meaning": "Esta es la amplitud de esta operación transformando el estado <code>00</code> a <code>11</code>."
          },
          "_t_amp_01_00": {
            "meaning": "Esta es la amplitud de esta operación transformando el estado <code>01</code> a <code>00</code>."
          },
          "_t_amp_01_01": {
            "meaning": "Esta es la amplitud de esta operación transformando el estado <code>01</code> a <code>01</code>."
          },
          "_t_amp_01_10": {
            "meaning": "Esta es la amplitud de esta operación transformando el estado <code>01</code> a <code>10</code>."
          },
          "_t_amp_01_11": {
            "meaning": "Esta es la amplitud de esta operación transformando el estado <code>01</code> a <code>11</code>."
          },
          "_t_amp_0_0": {
            "meaning": "Esto es proporcional a la amplitud de transición de esta operación transformando el estado <code>0</code> a <code>0</code>."
          },
          "_t_amp_0_1": {
            "meaning": "Esto es proporcional a la amplitud de transición de esta operación transformando el estado <code>0</code> a <code>1</code>."
          },
          "_t_amp_10_00": {
            "meaning": "Esta es la amplitud de esta operación transformando el estado <code>10</code> a <code>00</code>."
          },
          "_t_amp_10_01": {
            "meaning": "Esta es la amplitud de esta operación transformando el estado <code>10</code> a <code>01</code>."
          },
          "_t_amp_10_10": {
            "meaning": "Esta es la amplitud de esta operación transformando el estado <code>10</code> a <code>10</code>."
          },
          "_t_amp_10_11": {
            "meaning": "Esta es la amplitud de esta operación transformando el estado <code>10</code> a <code>11</code>."
          },
          "_t_amp_11_00": {
            "meaning": "Esta es la amplitud de esta operación transformando el estado <code>11</code> a <code>00</code>."
          },
          "_t_amp_11_01": {
            "meaning": "Esta es la amplitud de esta operación transformando el estado <code>11</code> a <code>01</code>."
          },
          "_t_amp_11_10": {
            "meaning": "Esta es la amplitud de esta operación transformando el estado <code>11</code> a <code>10</code>."
          },
          "_t_amp_11_11": {
            "meaning": "Esta es la amplitud de esta operación transformando el estado <code>11</code> a <code>11</code>."
          },
          "_t_amp_1_0": {
            "meaning": "Esto es proporcional a la amplitud de transición de esta operación transformando el estado <code>1</code> a <code>0</code>."
          },
          "_t_amp_1_1": {
            "meaning": "Esto es proporcional a la amplitud de transición de esta operación transformando el estado <code>1</code> a <code>1</code>."
          },
          "dot": {
            "meaning": "Este punto es una forma abreviada de multiplicación."
          },
          "u-gate": {
            "meaning": "'U' generalmente se usa para representar puertas cuánticas, especialmente si la puerta no tiene un nombre más específico. Significa 'unitario', que es algo que aprenderemos más adelante en esta página."
          }
        },
        "gloss": {
          "cnot": {
            "text": "La puerta CNOT alterna el estado de un qubit 'objetivo' si el estado de un qubit 'control' es 1.",
            "title": "CNOT"
          }
        }
      },
      "source": [
        "$$ \\cssId{u-gate}{U} = \\begin{bmatrix} \\class{ *t_amp_00_00}{t* {00\\to 00}} &amp; \\class{ *t_amp_01_00}{t* {01\\to 00}} &amp; \\class { *t_amp_10_00}{t* {10\\to 00}} &amp; \\class{ *t_amp_11_00}{t* {11\\to 00}} \\ \\class{ *t_amp_00_01}{t* {00\\to 01}} &amp; \\class{ *t_amp_01_01}{t* {01\\a 01}} &amp; \\class{ *t_amp_10_01}{t* {10\\a 01}} &amp; \\class{ *t_amp_11_01}{t* {11\\a 01}} \\ \\class{ *t_amp_00_10}{t* {00\\a 10 }} &amp; \\class{ *t_amp_01_10}{t* {01\\to 10}} &amp; \\class{ *t_amp_10_10}{t* {10\\to 10}} &amp; \\class{ *t_amp_11_10}{t* {11\\to 10}} \\ \\class { *t_amp_00_11}{t* {00\\to 11}} &amp; \\class{ *t_amp_01_11}{t* {01\\to 11}} &amp; \\class{ *t_amp_10_11}{t* {10\\to 11}} &amp; \\class{ *t_amp_11_11}{t* {11\\a 11}} \\ \\end{bmatriz} $$\n",
        "\n",
        "예를 들어, 다음은 '계산의 기본요소(원자)들' 챕터에서 보았던 CNOT 연산을 나타내는 행렬입니니.\n",
        "\n",
        "$$ \\cssId{_cnot-gate}{\\text{CNOT}} = \\begin{bmatrix} \\class{_t_amp_00_00}{1} &amp; \\class{_t_amp_01_00}{0} &amp; \\class{_t_amp_10_00}{0} &amp; \\ clase{_t_amp_11_00}{0} \\ \\class{_t_amp_00_01}{0} &amp; \\class{_t_amp_01_01}{0} &amp; \\class{_t_amp_10_01}{0} &amp; \\class{_t_amp_11_01}{1} \\ \\class{_t_amp_00_10}{ 0} &amp; \\class{_t_amp_01_10}{0} &amp; \\class{_t_amp_10_10}{1} &amp; \\class{_t_amp_11_10}{0} \\ \\class{_t_amp_00_11}{0} &amp; \\class{_t_amp_01_11}{1} &amp; \\class {_t_amp_10_11}{0} &amp; \\class{_t_amp_11_11}{0} \\ \\end{bmatriz} $$\n",
        "\n",
        "<!-- ::: q-block.exercise -->\n",
        "\n",
        "### 짧은 퀴즈\n",
        "\n",
        "<!-- ::: q-quiz(goal=\"intro-maths-0\") -->\n",
        "\n",
        "<!-- ::: .question -->\n",
        "\n",
        "CNOT 연산(위 그림)에서 상태 $|10\\rangle $를 $|01\\rangle $로 변환할 때 전이 진폭은 무엇일까요?\n",
        "\n",
        "<!-- ::: -->\n",
        "\n",
        "<!-- ::: .option -->\n",
        "\n",
        "1. $1$\n",
        "\n",
        "<!-- ::: -->\n",
        "\n",
        "<!-- ::: .option(correct) -->\n",
        "\n",
        "1. $0$\n",
        "\n",
        "<!-- ::: -->\n",
        "\n",
        "<!-- ::: .option -->\n",
        "\n",
        "1. $\\begin{bmatrix} 1 &amp; 0 &amp; 0 &amp; 0\\end{bmatrix}$\n",
        "\n",
        "<!-- ::: -->\n",
        "\n",
        "<!-- ::: .option -->\n",
        "\n",
        "1. $\\begin{bmatrix} 0 \\ 0 \\ 1 \\ 0\\end{bmatrix}$\n",
        "\n",
        "<!-- ::: -->\n",
        "\n",
        "<!-- ::: -->\n",
        "\n",
        "<!-- ::: -->\n",
        "\n",
        "다음은 이전 페이지에서 본 H-gate의 행렬입니다.\n",
        "\n",
        "$$ H = \\sqrt{\\tfrac{1}{2}} \\begin{bmatrix} \\class{_t_amp_0_0}{1} &amp; \\class{_t_amp_1_0}{1} \\ \\class{_t_amp_0_1}{1} &amp; \\class {_t_amp_1_1}{-1} \\ \\end{bmatriz} $$\n",
        "\n",
        "(행렬과 스칼라의 곱셈은 벡터와 같은 규칙을 사용합니다). 그리고 어떤 연산이 큐비트들 에 어떤 영향 을 주는지 를 보고 싶을 때 에는 각 전 이 진폭 을 입력 상태 벡터 의 각 의 의 진폭 에 각 상태 의 진폭 을 더 해 출력 상태 상태 벡터로 계산 합니다. 이는 확률(또는 진폭) 트리의 각 가지를 따라 곱하고 마지막에 총 확률(또는 진폭)을 더하는 다읔 다읔 돩.\n",
        "\n",
        "수학에 익숙한 분이라면 바로 알 수 있듯, 이것은 일반적인 행렬의 곱셈입니다.\n",
        "\n",
        "$$ H|0\\rangle = \\sqrt{\\tfrac{1}{2}} \\begin{bmatrix} \\class{_t_amp_0_0}{1} &amp; \\class{_t_amp_1_0}{ 1} \\ \\class{_t_amp_0_1}{1 } &amp; \\class{_t_amp_1_1}{-1} \\ \\end{bmatrix} \\begin{bmatrix} \\class{_sq-amp0}{1} \\ \\class{_sq-amp1}{0} \\ \\end{bmatrix} = \\sqrt{\\tfrac{1}{2}} \\begin{bmatrix} (1 \\class{dot}{\\cdot} 1) &amp; + &amp; (1 \\class{dot}{\\cdot} 0) \\ (1 \\ clase{punto}{\\cdot} 1) &amp; + &amp; (-1 \\class{punto}{\\cdot} 0) \\ \\end{bmatrix} = \\sqrt{\\tfrac{1}{2}} \\begin{bmatrix } \\class{_sq-amp0}{1} \\ \\class{_sq-amp1}{1} \\ \\end{bmatrix} $$\n",
        "\n",
        "![H-gate가 상태 |0>을 상태 |+>로 변환하는 방법을 보여주는 이미지](images/quantum-states/h-gate.svg)"
      ]
    },
    {
      "cell_type": "markdown",
      "metadata": {
      },
      "source": [
        "## 양자 연산의 규칙\n",
        "\n",
        "모든 벡터가 유효한 상태 벡터가 아닌 것처럼 모든 행렬이 유효한 양자 연산인 것은 아닙니다. 만약 행렬이 진정한 연산으로서 의미를 갖는다면 출력 상태의 합계 확률을 1로 유지해야 합니니니니. 따라서 다음의 행렬은 양자 연산으로 사용 할 수 없습니다.\n",
        "\n",
        "$$ \\begin{bmatrix} \\class{_t_amp_0_0}{1} &amp; \\class{_t_amp_1_0}{0} \\ \\class{_t_amp_0_1}{1} &amp; \\class{_t_amp_1_1}{0} \\ \\end{bmatrix} $$\n",
        "\n",
        "왜냐하면 이 행렬은 $|0\\rangle$ 상태에 대해 다음과 같이 작동하기 때문입니다:\n",
        "\n",
        "# $$ \\begin{bmatrix} \\class{_t_amp_0_0}{1} &amp; \\class{_t_amp_1_0}{0} \\ \\class{_t_amp_0_1}{1} &amp; \\class{_t_amp_1_1}{0} \\ \\end{bmatrix}\\begin {bmatriz} 1 \\ 0 \\end{bmatriz}\n",
        "\n",
        "\\begin{bmatrix} \\class{_sq-amp0}{1} \\ \\class{_sq-amp1}{1} \\end{bmatrix} $$\n",
        "\n",
        "그리고 확률의 합은 2가 되므로 조건을 만족하지 않게 됩니다. 또한 상태 $|1}rangle $에 작용한 경우 합계 확률은 0이 되어, 마찬가지로 규칙에 어긋나게 됩니다. (reversible) (reversible) 앉, 양자 게이트를 거꾸로 실행해 '원래로 되돌릴' 수 있는 것입니다(회전을 반전시키는 것얄 ꘭얄 ꘜ익). 이러한 성질을 가진 행렬을 *유니터리 행렬* 이라고 부릅니다. 양자 게이트를 '유니터리' 또는 '유니터리 게이트'라고 부르는 것을 흔히 볼 수 있습니다."
      ]
    }
  ],
  "metadata": {
    "kernelspec": {
      "display_name": "Python 3",
      "language": "python",
      "name": "python3"
    },
    "language_info": {
      "codemirror_mode": {
        "name": "ipython",
        "version": 3
      },
      "file_extension": ".py",
      "mimetype": "text/x-python",
      "name": "python",
      "nbconvert_exporter": "python",
      "pygments_lexer": "ipython3",
      "version": "3.9"
    }
  },
  "nbformat": 4,
  "nbformat_minor": 4
}
